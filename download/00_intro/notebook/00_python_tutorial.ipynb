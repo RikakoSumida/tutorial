{
  "nbformat": 4,
  "nbformat_minor": 0,
  "metadata": {
    "colab": {
      "name": "00_python_tutorial.ipynb",
      "provenance": []
    },
    "kernelspec": {
      "name": "python3",
      "display_name": "Python 3"
    }
  },
  "cells": [
    {
      "cell_type": "markdown",
      "metadata": {
        "id": "QtkVXtFBMQ95",
        "colab_type": "text"
      },
      "source": [
        "## Main data types"
      ]
    },
    {
      "cell_type": "markdown",
      "metadata": {
        "id": "DGWwqlsAMa1S",
        "colab_type": "text"
      },
      "source": [
        "Strings: \"hello\", \"goodbye\"\n",
        "\n",
        "Integers: -1,0,1,3\n",
        "\n",
        "Floats: -4.2,0.0,3.14"
      ]
    },
    {
      "cell_type": "code",
      "metadata": {
        "id": "l7FyrJl_LgMA",
        "colab_type": "code",
        "colab": {
          "base_uri": "https://localhost:8080/",
          "height": 34
        },
        "outputId": "58af8f8e-8a80-4c96-bb05-e661c28dca6b"
      },
      "source": [
        "my_int = 4\n",
        "my_float = 2.5\n",
        "my_string = \"hello\"\n",
        "\n",
        "print('string: {:s}\\tfloat: {:f}\\tint: {:d}'.format(my_string, my_float, my_int))\n"
      ],
      "execution_count": 13,
      "outputs": [
        {
          "output_type": "stream",
          "text": [
            "string: hello\tfloat: 2.500000\tint: 4\n"
          ],
          "name": "stdout"
        }
      ]
    },
    {
      "cell_type": "markdown",
      "metadata": {
        "id": "fZcKSs7CXPmW",
        "colab_type": "text"
      },
      "source": [
        "## Loop (for) and Control Flow (if/else)\n"
      ]
    },
    {
      "cell_type": "code",
      "metadata": {
        "id": "cAKuiB04XPIK",
        "colab_type": "code",
        "colab": {
          "base_uri": "https://localhost:8080/",
          "height": 102
        },
        "outputId": "f45ab26e-5330-4b02-c6ed-90f6ab8ec592"
      },
      "source": [
        "my_variable = 5\n",
        "\n",
        "if my_variable == 4:\n",
        "  print(\"my_variable is 4\")\n",
        "else:\n",
        "  print(\"my_variable is NOT 4\")\n",
        "\n",
        "for i in range(1, my_variable):\n",
        "  print(\"i == {:d}\".format(i))"
      ],
      "execution_count": 14,
      "outputs": [
        {
          "output_type": "stream",
          "text": [
            "my_variable is NOT 4\n",
            "i == 1\n",
            "i == 2\n",
            "i == 3\n",
            "i == 4\n"
          ],
          "name": "stdout"
        }
      ]
    },
    {
      "cell_type": "markdown",
      "metadata": {
        "id": "GnA1Ux6k1clR",
        "colab_type": "text"
      },
      "source": [
        "## Arrays (or \"lists\" in Python)"
      ]
    },
    {
      "cell_type": "code",
      "metadata": {
        "id": "aRxogbnn1jXD",
        "colab_type": "code",
        "colab": {
          "base_uri": "https://localhost:8080/",
          "height": 170
        },
        "outputId": "96b9e44e-207f-4c6a-f40d-0d5d166db6d2"
      },
      "source": [
        "my_list = [1,2,4,8,16]\n",
        "\n",
        "my_list.append(32)\n",
        "\n",
        "print(len(my_list))\n",
        "\n",
        "print(my_list[3])\n",
        "print(\"\")\n",
        "\n",
        "for value in my_list:\n",
        "  print(value)\n"
      ],
      "execution_count": 15,
      "outputs": [
        {
          "output_type": "stream",
          "text": [
            "6\n",
            "8\n",
            "\n",
            "1\n",
            "2\n",
            "4\n",
            "8\n",
            "16\n",
            "32\n"
          ],
          "name": "stdout"
        }
      ]
    },
    {
      "cell_type": "markdown",
      "metadata": {
        "id": "n8o95IbD9HRL",
        "colab_type": "text"
      },
      "source": [
        "## Maps (or \"dictionaries\" in Python)"
      ]
    },
    {
      "cell_type": "code",
      "metadata": {
        "id": "crA6BtDH9MxY",
        "colab_type": "code",
        "colab": {
          "base_uri": "https://localhost:8080/",
          "height": 289
        },
        "outputId": "5148b66f-74cd-442f-9da9-f519c1362af9"
      },
      "source": [
        "my_dict = {\"olivia\": 22, \"maria\": 30, \"sophia\": 18, \"emily\": 45}\n",
        "\n",
        "my_dict[\"rachel\"] = 15\n",
        "\n",
        "print(len(my_dict))\n",
        "print(my_dict[\"emily\"])\n",
        "print(\"\")\n",
        "\n",
        "if \"elizabeth\" in my_dict:\n",
        "  print(\"elizabeth exists in my_dict\")\n",
        "\n",
        "print(\"my_dict sorted by key\")\n",
        "for key, value in sorted(my_dict.items()):\n",
        "  print('{:s} --> {:d}'.format(key, value))\n",
        "\n",
        "print(\"\")\n",
        "print(\"my_dict sorted by value\")\n",
        "for key, value in sorted(my_dict.items(), key=lambda x:x[1]):\n",
        "  print('{:s} --> {:d}'.format(key, value))"
      ],
      "execution_count": 16,
      "outputs": [
        {
          "output_type": "stream",
          "text": [
            "5\n",
            "45\n",
            "\n",
            "my_dict sorted by key\n",
            "emily --> 45\n",
            "maria --> 30\n",
            "olivia --> 22\n",
            "rachel --> 15\n",
            "sophia --> 18\n",
            "\n",
            "my_dict sorted by value\n",
            "rachel --> 15\n",
            "sophia --> 18\n",
            "olivia --> 22\n",
            "maria --> 30\n",
            "emily --> 45\n"
          ],
          "name": "stdout"
        }
      ]
    },
    {
      "cell_type": "markdown",
      "metadata": {
        "id": "IqJpog7nLtLA",
        "colab_type": "text"
      },
      "source": [
        "## Sorting Lists"
      ]
    },
    {
      "cell_type": "code",
      "metadata": {
        "id": "qYKO6e2cLwR0",
        "colab_type": "code",
        "colab": {
          "base_uri": "https://localhost:8080/",
          "height": 34
        },
        "outputId": "42afaf68-00f1-48f8-90e3-35412d04e3ef"
      },
      "source": [
        "random_list = [3,12,5,6]\n",
        "sorted_list = sorted(random_list)\n",
        "\n",
        "print(sorted_list)"
      ],
      "execution_count": 17,
      "outputs": [
        {
          "output_type": "stream",
          "text": [
            "[3, 5, 6, 12]\n"
          ],
          "name": "stdout"
        }
      ]
    },
    {
      "cell_type": "markdown",
      "metadata": {
        "id": "WJkwLwHOS0g9",
        "colab_type": "text"
      },
      "source": [
        "## More on lists and dictionaries"
      ]
    },
    {
      "cell_type": "code",
      "metadata": {
        "id": "45CjVP0tS4Vj",
        "colab_type": "code",
        "colab": {
          "base_uri": "https://localhost:8080/",
          "height": 136
        },
        "outputId": "a41cede0-3cd0-45ab-9c4b-a0e6bba91f2b"
      },
      "source": [
        "my_list = [1,2,\"3\",\"four\", \"four\"]\n",
        "my_set = set(my_list)\n",
        "my_dict = {\"olivia\": 22, \"maria\": 30, \"sophia\": 18, \"emily\": 45}\n",
        "\n",
        "print(my_list)\n",
        "print(my_set)\n",
        "\n",
        "print(\"\")\n",
        "\n",
        "for key, value in sorted(my_dict.items()):\n",
        "  print('{:s} --> {:d}'.format(key, value))\n"
      ],
      "execution_count": 18,
      "outputs": [
        {
          "output_type": "stream",
          "text": [
            "[1, 2, '3', 'four', 'four']\n",
            "{'3', 1, 2, 'four'}\n",
            "\n",
            "emily --> 45\n",
            "maria --> 30\n",
            "olivia --> 22\n",
            "sophia --> 18\n"
          ],
          "name": "stdout"
        }
      ]
    },
    {
      "cell_type": "markdown",
      "metadata": {
        "id": "znPwUfGRXYUJ",
        "colab_type": "text"
      },
      "source": [
        "## Splitting and joining strings"
      ]
    },
    {
      "cell_type": "code",
      "metadata": {
        "id": "RC0dyc76XbsH",
        "colab_type": "code",
        "colab": {
          "base_uri": "https://localhost:8080/",
          "height": 119
        },
        "outputId": "8011091f-d22b-47db-e4ef-4c13715976d8"
      },
      "source": [
        "sentence = \"this is a book\"\n",
        "words = sentence.split(\" \")\n",
        "\n",
        "for word in words:\n",
        "  print(word)\n",
        "\n",
        "print(\"\")\n",
        "print(\" ||| \".join(words))\n"
      ],
      "execution_count": 19,
      "outputs": [
        {
          "output_type": "stream",
          "text": [
            "this\n",
            "is\n",
            "a\n",
            "book\n",
            "\n",
            "this ||| is ||| a ||| book\n"
          ],
          "name": "stdout"
        }
      ]
    },
    {
      "cell_type": "markdown",
      "metadata": {
        "id": "1du38lUwbDjh",
        "colab_type": "text"
      },
      "source": [
        "## More string functions"
      ]
    },
    {
      "cell_type": "code",
      "metadata": {
        "id": "Uwli_-qafuDY",
        "colab_type": "code",
        "colab": {
          "base_uri": "https://localhost:8080/",
          "height": 136
        },
        "outputId": "51574e67-a846-4c0d-a3db-b908a4758dfc"
      },
      "source": [
        "my_string1 = \"book\"\n",
        "\n",
        "print(my_string1.upper())\n",
        "\n",
        "my_string2 = \"JAPAN\"\n",
        "\n",
        "print(my_string2.lower())\n",
        "\n",
        "print(\"\")\n",
        "\n",
        "if my_string1.startswith(\"b\"):\n",
        "  print(\"my_string1 starts with \\\"b\\\"\")\n",
        "else:\n",
        "  print(\"my_string1 does NOT starts with \\\"b\\\"\")\n",
        "\n",
        "if my_string2.endswith(\"S\"):\n",
        "  print(\"my_string2 ends with \\\"S\\\"\")\n",
        "else:\n",
        "  print(\"my_string2 does NOT end with \\\"S\\\"\")\n",
        "\n",
        "print(\"\")\n",
        "mystring3 =  \"  desk   \"\n",
        "print(mystring3.strip())"
      ],
      "execution_count": 20,
      "outputs": [
        {
          "output_type": "stream",
          "text": [
            "BOOK\n",
            "japan\n",
            "\n",
            "my_string1 starts with \"b\"\n",
            "my_string2 does NOT end with \"S\"\n",
            "\n",
            "desk\n"
          ],
          "name": "stdout"
        }
      ]
    },
    {
      "cell_type": "markdown",
      "metadata": {
        "id": "q0HrGk2sl2M0",
        "colab_type": "text"
      },
      "source": [
        "## Functions"
      ]
    },
    {
      "cell_type": "code",
      "metadata": {
        "id": "eEE-etEPl5tY",
        "colab_type": "code",
        "colab": {
          "base_uri": "https://localhost:8080/",
          "height": 34
        },
        "outputId": "5b6dade5-dd51-4d0e-fee3-090cf092e792"
      },
      "source": [
        "def mult_and_abs(x, y):\n",
        "  z = x * y\n",
        "\n",
        "  if z >= 0:\n",
        "    return z\n",
        "  else:\n",
        "    return z * -1\n",
        "  \n",
        "print(mult_and_abs(-3, 2))"
      ],
      "execution_count": 21,
      "outputs": [
        {
          "output_type": "stream",
          "text": [
            "6\n"
          ],
          "name": "stdout"
        }
      ]
    },
    {
      "cell_type": "code",
      "metadata": {
        "id": "QAQ1U0IjoU-0",
        "colab_type": "code",
        "colab": {
          "base_uri": "https://localhost:8080/",
          "height": 34
        },
        "outputId": "653bef6c-76cf-4f06-fe1d-687653560a70"
      },
      "source": [
        "def test_mult_and_abs():\n",
        "  assert(mult_and_abs(-3,2) == 6), \"Error\"\n",
        "  return \"Test passed!\"\n",
        "\n",
        "print(test_mult_and_abs())"
      ],
      "execution_count": 29,
      "outputs": [
        {
          "output_type": "stream",
          "text": [
            "Test passed!\n"
          ],
          "name": "stdout"
        }
      ]
    }
  ]
}