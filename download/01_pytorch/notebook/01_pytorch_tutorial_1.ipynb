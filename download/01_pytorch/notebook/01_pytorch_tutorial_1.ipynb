{
  "nbformat": 4,
  "nbformat_minor": 0,
  "metadata": {
    "colab": {
      "name": "tutorial_1.ipynb",
      "provenance": [],
      "collapsed_sections": []
    },
    "kernelspec": {
      "name": "python3",
      "display_name": "Python 3"
    },
    "accelerator": "GPU"
  },
  "cells": [
    {
      "cell_type": "code",
      "metadata": {
        "id": "TUDA77eMU3KQ",
        "colab_type": "code",
        "colab": {
          "base_uri": "https://localhost:8080/",
          "height": 294
        },
        "outputId": "bb7231cd-79fd-4951-fee2-5ff947fd2802"
      },
      "source": [
        "#!pip install seaborn\n",
        "#!pip install sklearn"
      ],
      "execution_count": 23,
      "outputs": [
        {
          "output_type": "stream",
          "text": [
            "Requirement already satisfied: seaborn in /usr/local/lib/python3.6/dist-packages (0.10.0)\n",
            "Requirement already satisfied: pandas>=0.22.0 in /usr/local/lib/python3.6/dist-packages (from seaborn) (1.0.3)\n",
            "Requirement already satisfied: matplotlib>=2.1.2 in /usr/local/lib/python3.6/dist-packages (from seaborn) (3.2.1)\n",
            "Requirement already satisfied: numpy>=1.13.3 in /usr/local/lib/python3.6/dist-packages (from seaborn) (1.18.3)\n",
            "Requirement already satisfied: scipy>=1.0.1 in /usr/local/lib/python3.6/dist-packages (from seaborn) (1.4.1)\n",
            "Requirement already satisfied: python-dateutil>=2.6.1 in /usr/local/lib/python3.6/dist-packages (from pandas>=0.22.0->seaborn) (2.8.1)\n",
            "Requirement already satisfied: pytz>=2017.2 in /usr/local/lib/python3.6/dist-packages (from pandas>=0.22.0->seaborn) (2018.9)\n",
            "Requirement already satisfied: pyparsing!=2.0.4,!=2.1.2,!=2.1.6,>=2.0.1 in /usr/local/lib/python3.6/dist-packages (from matplotlib>=2.1.2->seaborn) (2.4.7)\n",
            "Requirement already satisfied: kiwisolver>=1.0.1 in /usr/local/lib/python3.6/dist-packages (from matplotlib>=2.1.2->seaborn) (1.2.0)\n",
            "Requirement already satisfied: cycler>=0.10 in /usr/local/lib/python3.6/dist-packages (from matplotlib>=2.1.2->seaborn) (0.10.0)\n",
            "Requirement already satisfied: six>=1.5 in /usr/local/lib/python3.6/dist-packages (from python-dateutil>=2.6.1->pandas>=0.22.0->seaborn) (1.12.0)\n",
            "Requirement already satisfied: sklearn in /usr/local/lib/python3.6/dist-packages (0.0)\n",
            "Requirement already satisfied: scikit-learn in /usr/local/lib/python3.6/dist-packages (from sklearn) (0.22.2.post1)\n",
            "Requirement already satisfied: joblib>=0.11 in /usr/local/lib/python3.6/dist-packages (from scikit-learn->sklearn) (0.14.1)\n",
            "Requirement already satisfied: numpy>=1.11.0 in /usr/local/lib/python3.6/dist-packages (from scikit-learn->sklearn) (1.18.3)\n",
            "Requirement already satisfied: scipy>=0.17.0 in /usr/local/lib/python3.6/dist-packages (from scikit-learn->sklearn) (1.4.1)\n"
          ],
          "name": "stdout"
        }
      ]
    },
    {
      "cell_type": "markdown",
      "metadata": {
        "id": "SsWwvBUr3yIv",
        "colab_type": "text"
      },
      "source": [
        "Collapsed one-hot representation"
      ]
    },
    {
      "cell_type": "code",
      "metadata": {
        "id": "bkHlbWasSIVo",
        "colab_type": "code",
        "colab": {
          "base_uri": "https://localhost:8080/",
          "height": 282
        },
        "outputId": "7b5e9bb2-2587-4883-c436-b47f913477c1"
      },
      "source": [
        "\n",
        "\n",
        "from sklearn.feature_extraction.text import CountVectorizer\n",
        "import seaborn as sns\n",
        "\n",
        "corpus = ['Time flies flies like an arrow.',\n",
        "          'Fruit flies like a banana.'\n",
        "          ]\n",
        "one_hot_vectorizer = CountVectorizer(binary = True)\n",
        "\n",
        "one_hot = one_hot_vectorizer.fit_transform(corpus).toarray()\n",
        "vocab = one_hot_vectorizer.get_feature_names()\n",
        "\n",
        "sns.heatmap(one_hot, annot=True,\n",
        "            cbar=False, xticklabels=vocab,\n",
        "            yticklabels=['Sentence 1','Sentence 2'],\n",
        "            cmap=\"YlGnBu\")"
      ],
      "execution_count": 24,
      "outputs": [
        {
          "output_type": "execute_result",
          "data": {
            "text/plain": [
              "<matplotlib.axes._subplots.AxesSubplot at 0x7fa1ba464c50>"
            ]
          },
          "metadata": {
            "tags": []
          },
          "execution_count": 24
        },
        {
          "output_type": "display_data",
          "data": {
            "image/png": "[encoded data removed]",
            "text/plain": [
              "<Figure size 432x288 with 1 Axes>"
            ]
          },
          "metadata": {
            "tags": [],
            "needs_background": "light"
          }
        }
      ]
    },
    {
      "cell_type": "markdown",
      "metadata": {
        "id": "7MR0wTEg3sfX",
        "colab_type": "text"
      },
      "source": [
        "TF-IDF Representation"
      ]
    },
    {
      "cell_type": "code",
      "metadata": {
        "id": "iIJgIjIE3r8G",
        "colab_type": "code",
        "colab": {
          "base_uri": "https://localhost:8080/",
          "height": 282
        },
        "outputId": "ccf7a609-1b4a-46ca-c4f8-f93b141458de"
      },
      "source": [
        "from sklearn.feature_extraction.text import TfidfVectorizer\n",
        "\n",
        "corpus = ['Time flies flies like an arrow.',\n",
        "          'Fruit flies like a banana.'\n",
        "          ]\n",
        "          \n",
        "tfidf_vectorizer = TfidfVectorizer()\n",
        "\n",
        "tdidf = tfidf_vectorizer.fit_transform(corpus).toarray()\n",
        "vocab = one_hot_vectorizer.get_feature_names()\n",
        "\n",
        "sns.heatmap(tdidf, annot=True,\n",
        "            cbar=False, xticklabels=vocab,\n",
        "            yticklabels=['Sentence 1','Sentence 2'],\n",
        "            cmap=\"YlGnBu\")"
      ],
      "execution_count": 25,
      "outputs": [
        {
          "output_type": "execute_result",
          "data": {
            "text/plain": [
              "<matplotlib.axes._subplots.AxesSubplot at 0x7fa207014710>"
            ]
          },
          "metadata": {
            "tags": []
          },
          "execution_count": 25
        },
        {
          "output_type": "display_data",
          "data": {
            "image/png": "[encoded data removed]",
            "text/plain": [
              "<Figure size 432x288 with 1 Axes>"
            ]
          },
          "metadata": {
            "tags": [],
            "needs_background": "light"
          }
        }
      ]
    },
    {
      "cell_type": "markdown",
      "metadata": {
        "id": "62JxxcCvASm_",
        "colab_type": "text"
      },
      "source": [
        "Creating tensors"
      ]
    },
    {
      "cell_type": "code",
      "metadata": {
        "id": "0FuPoYpFAGDG",
        "colab_type": "code",
        "colab": {
          "base_uri": "https://localhost:8080/",
          "height": 121
        },
        "outputId": "3f129951-d68b-4a44-9494-e1bc110200d3"
      },
      "source": [
        "import torch\n",
        "\n",
        "def describe(x):\n",
        "  print(\"Type: {}\".format(x.type()))\n",
        "  print(\"Shape/size {}:\".format(x.shape))\n",
        "  print(\"Values: \\n{}\".format(x))\n",
        "  print()\n",
        "\n",
        "describe(torch.Tensor(2,3))"
      ],
      "execution_count": 26,
      "outputs": [
        {
          "output_type": "stream",
          "text": [
            "Type: torch.FloatTensor\n",
            "Shape/size torch.Size([2, 3]):\n",
            "Values: \n",
            "tensor([[5.0943e-37, 0.0000e+00, 7.1440e+31],\n",
            "        [7.5876e+31, 1.9178e-19, 1.9205e+31]])\n",
            "\n"
          ],
          "name": "stdout"
        }
      ]
    },
    {
      "cell_type": "markdown",
      "metadata": {
        "id": "YfqnNxflFL9V",
        "colab_type": "text"
      },
      "source": [
        "Creating a randomly initialized tensor "
      ]
    },
    {
      "cell_type": "code",
      "metadata": {
        "id": "bEnPkK2nFWev",
        "colab_type": "code",
        "colab": {
          "base_uri": "https://localhost:8080/",
          "height": 225
        },
        "outputId": "c1cdc909-8cec-4e26-d682-216f0cd61c7f"
      },
      "source": [
        "describe(torch.rand(2,3))   #uniform random dist.\n",
        "describe(torch.randn(2,3))  #random normal dist. (mean=0, variance=1)"
      ],
      "execution_count": 27,
      "outputs": [
        {
          "output_type": "stream",
          "text": [
            "Type: torch.FloatTensor\n",
            "Shape/size torch.Size([2, 3]):\n",
            "Values: \n",
            "tensor([[0.2035, 0.6749, 0.5391],\n",
            "        [0.4202, 0.2329, 0.2678]])\n",
            "\n",
            "Type: torch.FloatTensor\n",
            "Shape/size torch.Size([2, 3]):\n",
            "Values: \n",
            "tensor([[-0.2877, -0.1518,  0.7186],\n",
            "        [ 1.0026, -0.8134,  0.1107]])\n",
            "\n"
          ],
          "name": "stdout"
        }
      ]
    },
    {
      "cell_type": "markdown",
      "metadata": {
        "id": "nNNCxWGvH40n",
        "colab_type": "text"
      },
      "source": [
        "Creating a filled tensor"
      ]
    },
    {
      "cell_type": "code",
      "metadata": {
        "id": "F-byG-0dH5RW",
        "colab_type": "code",
        "colab": {
          "base_uri": "https://localhost:8080/",
          "height": 328
        },
        "outputId": "39bf4ab8-cb1d-4b28-9282-adfc19d98a0c"
      },
      "source": [
        "describe(torch.zeros(2,3)) #tensor of zeros\n",
        "x = torch.ones(2,3)  #tensor of ones\n",
        "describe(x)\n",
        "x.fill_(5) #filling witg value 5\n",
        "describe(x)"
      ],
      "execution_count": 28,
      "outputs": [
        {
          "output_type": "stream",
          "text": [
            "Type: torch.FloatTensor\n",
            "Shape/size torch.Size([2, 3]):\n",
            "Values: \n",
            "tensor([[0., 0., 0.],\n",
            "        [0., 0., 0.]])\n",
            "\n",
            "Type: torch.FloatTensor\n",
            "Shape/size torch.Size([2, 3]):\n",
            "Values: \n",
            "tensor([[1., 1., 1.],\n",
            "        [1., 1., 1.]])\n",
            "\n",
            "Type: torch.FloatTensor\n",
            "Shape/size torch.Size([2, 3]):\n",
            "Values: \n",
            "tensor([[5., 5., 5.],\n",
            "        [5., 5., 5.]])\n",
            "\n"
          ],
          "name": "stdout"
        }
      ]
    },
    {
      "cell_type": "markdown",
      "metadata": {
        "id": "AvmdPL7wJOhX",
        "colab_type": "text"
      },
      "source": [
        "Creating and initializing a tensor from lists"
      ]
    },
    {
      "cell_type": "code",
      "metadata": {
        "id": "hqGyK_fmJUz2",
        "colab_type": "code",
        "colab": {
          "base_uri": "https://localhost:8080/",
          "height": 121
        },
        "outputId": "75742c4d-1dd2-485e-c4ed-881beecdcc16"
      },
      "source": [
        "x = torch.Tensor([[1,2,3], #inializing a tensor from lists\n",
        "                 [4,5,6]])\n",
        "describe(x)"
      ],
      "execution_count": 29,
      "outputs": [
        {
          "output_type": "stream",
          "text": [
            "Type: torch.FloatTensor\n",
            "Shape/size torch.Size([2, 3]):\n",
            "Values: \n",
            "tensor([[1., 2., 3.],\n",
            "        [4., 5., 6.]])\n",
            "\n"
          ],
          "name": "stdout"
        }
      ]
    },
    {
      "cell_type": "markdown",
      "metadata": {
        "id": "9UqYg8I4Lxma",
        "colab_type": "text"
      },
      "source": [
        "Creating and initializing a tensor from numpy"
      ]
    },
    {
      "cell_type": "code",
      "metadata": {
        "id": "mB7RTGdWL1zf",
        "colab_type": "code",
        "colab": {
          "base_uri": "https://localhost:8080/",
          "height": 121
        },
        "outputId": "5546882a-569e-4d14-9c88-d5d30a02a033"
      },
      "source": [
        "import numpy as np\n",
        "\n",
        "npy = np.random.rand(2,3)\n",
        "describe(torch.from_numpy(npy))"
      ],
      "execution_count": 30,
      "outputs": [
        {
          "output_type": "stream",
          "text": [
            "Type: torch.DoubleTensor\n",
            "Shape/size torch.Size([2, 3]):\n",
            "Values: \n",
            "tensor([[0.5749, 0.9189, 0.8467],\n",
            "        [0.8919, 0.8024, 0.3362]], dtype=torch.float64)\n",
            "\n"
          ],
          "name": "stdout"
        }
      ]
    },
    {
      "cell_type": "markdown",
      "metadata": {
        "id": "kJANEZPwNQAh",
        "colab_type": "text"
      },
      "source": [
        "Tensor types and size"
      ]
    },
    {
      "cell_type": "code",
      "metadata": {
        "id": "mMGbZvKtN-Gv",
        "colab_type": "code",
        "colab": {
          "base_uri": "https://localhost:8080/",
          "height": 121
        },
        "outputId": "0e86150b-cf1a-452d-9403-2cb7838f8abf"
      },
      "source": [
        "x = torch.FloatTensor([[1,2,3],\n",
        "                      [4,5,6]])\n",
        "describe(x)"
      ],
      "execution_count": 31,
      "outputs": [
        {
          "output_type": "stream",
          "text": [
            "Type: torch.FloatTensor\n",
            "Shape/size torch.Size([2, 3]):\n",
            "Values: \n",
            "tensor([[1., 2., 3.],\n",
            "        [4., 5., 6.]])\n",
            "\n"
          ],
          "name": "stdout"
        }
      ]
    },
    {
      "cell_type": "code",
      "metadata": {
        "id": "2kemSbb3OcNJ",
        "colab_type": "code",
        "colab": {
          "base_uri": "https://localhost:8080/",
          "height": 121
        },
        "outputId": "a9006a08-01dc-41f2-ba2d-3a0b4e34ed88"
      },
      "source": [
        "x = x.long()\n",
        "describe(x)"
      ],
      "execution_count": 32,
      "outputs": [
        {
          "output_type": "stream",
          "text": [
            "Type: torch.LongTensor\n",
            "Shape/size torch.Size([2, 3]):\n",
            "Values: \n",
            "tensor([[1, 2, 3],\n",
            "        [4, 5, 6]])\n",
            "\n"
          ],
          "name": "stdout"
        }
      ]
    },
    {
      "cell_type": "code",
      "metadata": {
        "id": "NSUMBnZNPG_J",
        "colab_type": "code",
        "colab": {
          "base_uri": "https://localhost:8080/",
          "height": 121
        },
        "outputId": "e8bfe649-9ceb-44d9-9a89-e14655204c27"
      },
      "source": [
        "x = torch.tensor([[1,2,3],\n",
        "                  [4,5,6]], dtype=torch.int64)\n",
        "describe(x)"
      ],
      "execution_count": 33,
      "outputs": [
        {
          "output_type": "stream",
          "text": [
            "Type: torch.LongTensor\n",
            "Shape/size torch.Size([2, 3]):\n",
            "Values: \n",
            "tensor([[1, 2, 3],\n",
            "        [4, 5, 6]])\n",
            "\n"
          ],
          "name": "stdout"
        }
      ]
    },
    {
      "cell_type": "code",
      "metadata": {
        "id": "cUbP-280Pa0a",
        "colab_type": "code",
        "colab": {
          "base_uri": "https://localhost:8080/",
          "height": 121
        },
        "outputId": "7d1ae488-5881-48ae-f1fc-0e4c3d05889f"
      },
      "source": [
        "x = x.float()\n",
        "describe(x)"
      ],
      "execution_count": 34,
      "outputs": [
        {
          "output_type": "stream",
          "text": [
            "Type: torch.FloatTensor\n",
            "Shape/size torch.Size([2, 3]):\n",
            "Values: \n",
            "tensor([[1., 2., 3.],\n",
            "        [4., 5., 6.]])\n",
            "\n"
          ],
          "name": "stdout"
        }
      ]
    },
    {
      "cell_type": "markdown",
      "metadata": {
        "id": "65gzR-rMPnee",
        "colab_type": "text"
      },
      "source": [
        "Tensor Operations: addition"
      ]
    },
    {
      "cell_type": "code",
      "metadata": {
        "id": "ieOYTCirYZ13",
        "colab_type": "code",
        "colab": {
          "base_uri": "https://localhost:8080/",
          "height": 328
        },
        "outputId": "60c3c7fc-11db-4c12-b5ab-fc9460178ddc"
      },
      "source": [
        "x = torch.randn(2,3)\n",
        "describe(x)\n",
        "describe(torch.add(x,x))\n",
        "describe(x+x)"
      ],
      "execution_count": 35,
      "outputs": [
        {
          "output_type": "stream",
          "text": [
            "Type: torch.FloatTensor\n",
            "Shape/size torch.Size([2, 3]):\n",
            "Values: \n",
            "tensor([[-0.6328, -1.5424,  0.1904],\n",
            "        [ 0.5330,  0.6319, -0.1834]])\n",
            "\n",
            "Type: torch.FloatTensor\n",
            "Shape/size torch.Size([2, 3]):\n",
            "Values: \n",
            "tensor([[-1.2657, -3.0849,  0.3807],\n",
            "        [ 1.0660,  1.2637, -0.3669]])\n",
            "\n",
            "Type: torch.FloatTensor\n",
            "Shape/size torch.Size([2, 3]):\n",
            "Values: \n",
            "tensor([[-1.2657, -3.0849,  0.3807],\n",
            "        [ 1.0660,  1.2637, -0.3669]])\n",
            "\n"
          ],
          "name": "stdout"
        }
      ]
    },
    {
      "cell_type": "markdown",
      "metadata": {
        "id": "RHzB4Ubjb_E1",
        "colab_type": "text"
      },
      "source": [
        "Dimension-based tensor operations"
      ]
    },
    {
      "cell_type": "code",
      "metadata": {
        "id": "j_cauJL6cCcY",
        "colab_type": "code",
        "colab": {
          "base_uri": "https://localhost:8080/",
          "height": 207
        },
        "outputId": "e07e3204-0e72-41a7-936a-6af3cb658032"
      },
      "source": [
        "x = torch.arange(6.)\n",
        "describe(x)\n",
        "\n",
        "x = x.view(2,3)\n",
        "describe(x)"
      ],
      "execution_count": 36,
      "outputs": [
        {
          "output_type": "stream",
          "text": [
            "Type: torch.FloatTensor\n",
            "Shape/size torch.Size([6]):\n",
            "Values: \n",
            "tensor([0., 1., 2., 3., 4., 5.])\n",
            "\n",
            "Type: torch.FloatTensor\n",
            "Shape/size torch.Size([2, 3]):\n",
            "Values: \n",
            "tensor([[0., 1., 2.],\n",
            "        [3., 4., 5.]])\n",
            "\n"
          ],
          "name": "stdout"
        }
      ]
    },
    {
      "cell_type": "code",
      "metadata": {
        "id": "lzkRCZ86d9cn",
        "colab_type": "code",
        "colab": {
          "base_uri": "https://localhost:8080/",
          "height": 294
        },
        "outputId": "3d453999-b605-4114-b67a-9305272bdc79"
      },
      "source": [
        "x = torch.arange(6.)\n",
        "x = x.view(2,3)\n",
        "describe(x)\n",
        "describe(torch.sum(x, dim=0))\n",
        "describe(torch.sum(x, dim=1))"
      ],
      "execution_count": 37,
      "outputs": [
        {
          "output_type": "stream",
          "text": [
            "Type: torch.FloatTensor\n",
            "Shape/size torch.Size([2, 3]):\n",
            "Values: \n",
            "tensor([[0., 1., 2.],\n",
            "        [3., 4., 5.]])\n",
            "\n",
            "Type: torch.FloatTensor\n",
            "Shape/size torch.Size([3]):\n",
            "Values: \n",
            "tensor([3., 5., 7.])\n",
            "\n",
            "Type: torch.FloatTensor\n",
            "Shape/size torch.Size([2]):\n",
            "Values: \n",
            "tensor([ 3., 12.])\n",
            "\n"
          ],
          "name": "stdout"
        }
      ]
    },
    {
      "cell_type": "code",
      "metadata": {
        "id": "pvYMRDMPeHqz",
        "colab_type": "code",
        "colab": {
          "base_uri": "https://localhost:8080/",
          "height": 242
        },
        "outputId": "7c5911dd-a06e-4f63-b423-f6672db7d676"
      },
      "source": [
        "x = torch.arange(6.)\n",
        "x = x.view(2,3)\n",
        "describe(x)\n",
        "describe(torch.transpose(x,0,1))"
      ],
      "execution_count": 38,
      "outputs": [
        {
          "output_type": "stream",
          "text": [
            "Type: torch.FloatTensor\n",
            "Shape/size torch.Size([2, 3]):\n",
            "Values: \n",
            "tensor([[0., 1., 2.],\n",
            "        [3., 4., 5.]])\n",
            "\n",
            "Type: torch.FloatTensor\n",
            "Shape/size torch.Size([3, 2]):\n",
            "Values: \n",
            "tensor([[0., 3.],\n",
            "        [1., 4.],\n",
            "        [2., 5.]])\n",
            "\n"
          ],
          "name": "stdout"
        }
      ]
    },
    {
      "cell_type": "markdown",
      "metadata": {
        "id": "zYO35Vikhff3",
        "colab_type": "text"
      },
      "source": [
        "Slicing and Indexing a tensor"
      ]
    },
    {
      "cell_type": "code",
      "metadata": {
        "id": "WkGQLkLkhk8m",
        "colab_type": "code",
        "colab": {
          "base_uri": "https://localhost:8080/",
          "height": 294
        },
        "outputId": "17bde943-3714-4aa9-c664-ab5afa26799d"
      },
      "source": [
        "x = torch.arange(6.).view(2,3)\n",
        "describe(x)\n",
        "describe(x[:1,:2])\n",
        "describe(x[0,1])"
      ],
      "execution_count": 39,
      "outputs": [
        {
          "output_type": "stream",
          "text": [
            "Type: torch.FloatTensor\n",
            "Shape/size torch.Size([2, 3]):\n",
            "Values: \n",
            "tensor([[0., 1., 2.],\n",
            "        [3., 4., 5.]])\n",
            "\n",
            "Type: torch.FloatTensor\n",
            "Shape/size torch.Size([1, 2]):\n",
            "Values: \n",
            "tensor([[0., 1.]])\n",
            "\n",
            "Type: torch.FloatTensor\n",
            "Shape/size torch.Size([]):\n",
            "Values: \n",
            "1.0\n",
            "\n"
          ],
          "name": "stdout"
        }
      ]
    },
    {
      "cell_type": "markdown",
      "metadata": {
        "id": "77rSF7ljixLU",
        "colab_type": "text"
      },
      "source": [
        "Complex indexing: noncontiguous indexing of a tensor"
      ]
    },
    {
      "cell_type": "code",
      "metadata": {
        "id": "M50ogwlLi3CG",
        "colab_type": "code",
        "colab": {
          "base_uri": "https://localhost:8080/",
          "height": 311
        },
        "outputId": "884243c4-374c-4752-d577-b82a22326b5a"
      },
      "source": [
        "x = torch.arange(6.).view(2,3)\n",
        "describe(x)\n",
        "indices = torch.LongTensor([0,2])\n",
        "describe(indices)\n",
        "describe(torch.index_select(x,dim=1,index=indices))"
      ],
      "execution_count": 40,
      "outputs": [
        {
          "output_type": "stream",
          "text": [
            "Type: torch.FloatTensor\n",
            "Shape/size torch.Size([2, 3]):\n",
            "Values: \n",
            "tensor([[0., 1., 2.],\n",
            "        [3., 4., 5.]])\n",
            "\n",
            "Type: torch.LongTensor\n",
            "Shape/size torch.Size([2]):\n",
            "Values: \n",
            "tensor([0, 2])\n",
            "\n",
            "Type: torch.FloatTensor\n",
            "Shape/size torch.Size([2, 2]):\n",
            "Values: \n",
            "tensor([[0., 2.],\n",
            "        [3., 5.]])\n",
            "\n"
          ],
          "name": "stdout"
        }
      ]
    },
    {
      "cell_type": "code",
      "metadata": {
        "id": "AbHOKdeGkYBh",
        "colab_type": "code",
        "colab": {
          "base_uri": "https://localhost:8080/",
          "height": 311
        },
        "outputId": "8096e820-57fc-4e0b-dc9a-59f956e78109"
      },
      "source": [
        "x = torch.arange(6.).view(2,3)\n",
        "describe(x)\n",
        "indices = torch.LongTensor([0,0])\n",
        "describe(indices)\n",
        "describe(torch.index_select(x,dim=0,index=indices))"
      ],
      "execution_count": 41,
      "outputs": [
        {
          "output_type": "stream",
          "text": [
            "Type: torch.FloatTensor\n",
            "Shape/size torch.Size([2, 3]):\n",
            "Values: \n",
            "tensor([[0., 1., 2.],\n",
            "        [3., 4., 5.]])\n",
            "\n",
            "Type: torch.LongTensor\n",
            "Shape/size torch.Size([2]):\n",
            "Values: \n",
            "tensor([0, 0])\n",
            "\n",
            "Type: torch.FloatTensor\n",
            "Shape/size torch.Size([2, 3]):\n",
            "Values: \n",
            "tensor([[0., 1., 2.],\n",
            "        [0., 1., 2.]])\n",
            "\n"
          ],
          "name": "stdout"
        }
      ]
    },
    {
      "cell_type": "code",
      "metadata": {
        "id": "IwSu0ykdmDRj",
        "colab_type": "code",
        "colab": {
          "base_uri": "https://localhost:8080/",
          "height": 207
        },
        "outputId": "492ee067-822c-4e0a-8c05-c22c552fc3e7"
      },
      "source": [
        "x = torch.arange(6.).view(2,3)\n",
        "describe(x)\n",
        "row_indices = torch.arange(2).long()\n",
        "col_indices = torch.LongTensor([0,1])\n",
        "describe(x[row_indices, col_indices])"
      ],
      "execution_count": 42,
      "outputs": [
        {
          "output_type": "stream",
          "text": [
            "Type: torch.FloatTensor\n",
            "Shape/size torch.Size([2, 3]):\n",
            "Values: \n",
            "tensor([[0., 1., 2.],\n",
            "        [3., 4., 5.]])\n",
            "\n",
            "Type: torch.FloatTensor\n",
            "Shape/size torch.Size([2]):\n",
            "Values: \n",
            "tensor([0., 4.])\n",
            "\n"
          ],
          "name": "stdout"
        }
      ]
    },
    {
      "cell_type": "markdown",
      "metadata": {
        "id": "QFanJPsYzmZn",
        "colab_type": "text"
      },
      "source": [
        "\n",
        "\n",
        "Concatenating tensors\n"
      ]
    },
    {
      "cell_type": "code",
      "metadata": {
        "id": "A_t1bv5mnZA1",
        "colab_type": "code",
        "colab": {
          "base_uri": "https://localhost:8080/",
          "height": 518
        },
        "outputId": "66bbcb0b-811f-4790-e2ba-07d211627b3a"
      },
      "source": [
        "x = torch.arange(6.).view(2,3)\n",
        "describe(x)\n",
        "describe(torch.cat([x,x], dim=0))\n",
        "describe(torch.cat([x,x], dim=1))\n",
        "describe(torch.stack([x,x]))"
      ],
      "execution_count": 43,
      "outputs": [
        {
          "output_type": "stream",
          "text": [
            "Type: torch.FloatTensor\n",
            "Shape/size torch.Size([2, 3]):\n",
            "Values: \n",
            "tensor([[0., 1., 2.],\n",
            "        [3., 4., 5.]])\n",
            "\n",
            "Type: torch.FloatTensor\n",
            "Shape/size torch.Size([4, 3]):\n",
            "Values: \n",
            "tensor([[0., 1., 2.],\n",
            "        [3., 4., 5.],\n",
            "        [0., 1., 2.],\n",
            "        [3., 4., 5.]])\n",
            "\n",
            "Type: torch.FloatTensor\n",
            "Shape/size torch.Size([2, 6]):\n",
            "Values: \n",
            "tensor([[0., 1., 2., 0., 1., 2.],\n",
            "        [3., 4., 5., 3., 4., 5.]])\n",
            "\n",
            "Type: torch.FloatTensor\n",
            "Shape/size torch.Size([2, 2, 3]):\n",
            "Values: \n",
            "tensor([[[0., 1., 2.],\n",
            "         [3., 4., 5.]],\n",
            "\n",
            "        [[0., 1., 2.],\n",
            "         [3., 4., 5.]]])\n",
            "\n"
          ],
          "name": "stdout"
        }
      ]
    },
    {
      "cell_type": "markdown",
      "metadata": {
        "id": "13H69KEnoNzE",
        "colab_type": "text"
      },
      "source": [
        "Tensor multiplication"
      ]
    },
    {
      "cell_type": "code",
      "metadata": {
        "id": "9SxKnkUnoPaG",
        "colab_type": "code",
        "colab": {
          "base_uri": "https://localhost:8080/",
          "height": 345
        },
        "outputId": "d2a60008-13e8-4a5a-bcad-bec6badcb257"
      },
      "source": [
        "x1 = torch.arange(6.).view(2,3)\n",
        "describe(x1)\n",
        "x2 = torch.ones(3,2)\n",
        "x2[:,1] += 1\n",
        "describe(x2)\n",
        "describe(torch.mm(x1,x2))"
      ],
      "execution_count": 44,
      "outputs": [
        {
          "output_type": "stream",
          "text": [
            "Type: torch.FloatTensor\n",
            "Shape/size torch.Size([2, 3]):\n",
            "Values: \n",
            "tensor([[0., 1., 2.],\n",
            "        [3., 4., 5.]])\n",
            "\n",
            "Type: torch.FloatTensor\n",
            "Shape/size torch.Size([3, 2]):\n",
            "Values: \n",
            "tensor([[1., 2.],\n",
            "        [1., 2.],\n",
            "        [1., 2.]])\n",
            "\n",
            "Type: torch.FloatTensor\n",
            "Shape/size torch.Size([2, 2]):\n",
            "Values: \n",
            "tensor([[ 3.,  6.],\n",
            "        [12., 24.]])\n",
            "\n"
          ],
          "name": "stdout"
        }
      ]
    },
    {
      "cell_type": "markdown",
      "metadata": {
        "id": "DUXEJMJsqBoK",
        "colab_type": "text"
      },
      "source": [
        "Creating tensors for gradient bookkeeping"
      ]
    },
    {
      "cell_type": "code",
      "metadata": {
        "id": "bo_maRKQqA1O",
        "colab_type": "code",
        "colab": {
          "base_uri": "https://localhost:8080/",
          "height": 397
        },
        "outputId": "be43dada-9b3a-4436-d3c4-179845969695"
      },
      "source": [
        "x = torch.ones(2,2, requires_grad=True)\n",
        "describe(x)\n",
        "print(x.grad is None)\n",
        "print()\n",
        "\n",
        "y = (x+2)*(x+5) + 3\n",
        "describe(y)\n",
        "print(x.grad is None)\n",
        "print()\n",
        "\n",
        "z = y.mean()\n",
        "describe(z)\n",
        "z.backward()\n",
        "print(x.grad is None)\n"
      ],
      "execution_count": 45,
      "outputs": [
        {
          "output_type": "stream",
          "text": [
            "Type: torch.FloatTensor\n",
            "Shape/size torch.Size([2, 2]):\n",
            "Values: \n",
            "tensor([[1., 1.],\n",
            "        [1., 1.]], requires_grad=True)\n",
            "\n",
            "True\n",
            "\n",
            "Type: torch.FloatTensor\n",
            "Shape/size torch.Size([2, 2]):\n",
            "Values: \n",
            "tensor([[21., 21.],\n",
            "        [21., 21.]], grad_fn=<AddBackward0>)\n",
            "\n",
            "True\n",
            "\n",
            "Type: torch.FloatTensor\n",
            "Shape/size torch.Size([]):\n",
            "Values: \n",
            "21.0\n",
            "\n",
            "False\n"
          ],
          "name": "stdout"
        }
      ]
    },
    {
      "cell_type": "markdown",
      "metadata": {
        "id": "4TayB2XXzub4",
        "colab_type": "text"
      },
      "source": [
        "Creating cuda tensors"
      ]
    },
    {
      "cell_type": "code",
      "metadata": {
        "id": "nuUg-mlXzVCe",
        "colab_type": "code",
        "colab": {
          "base_uri": "https://localhost:8080/",
          "height": 190
        },
        "outputId": "1ce7a577-76a1-4de3-9f83-ee092cb9ffdb"
      },
      "source": [
        "print(torch.cuda.is_available())\n",
        "\n",
        "#device agnostic tensor instantiation\n",
        "device = torch.device(\"cuda\" if torch.cuda.is_available() else \"cpu\")\n",
        "print(device)\n",
        "print()\n",
        "x = torch.rand(3,3).to(device)\n",
        "describe(x)"
      ],
      "execution_count": 49,
      "outputs": [
        {
          "output_type": "stream",
          "text": [
            "True\n",
            "cuda\n",
            "\n",
            "Type: torch.cuda.FloatTensor\n",
            "Shape/size torch.Size([3, 3]):\n",
            "Values: \n",
            "tensor([[0.3205, 0.6094, 0.1437],\n",
            "        [0.9105, 0.3578, 0.6457],\n",
            "        [0.3558, 0.8847, 0.1556]], device='cuda:0')\n",
            "\n"
          ],
          "name": "stdout"
        }
      ]
    },
    {
      "cell_type": "markdown",
      "metadata": {
        "id": "8Yf4STeI00B2",
        "colab_type": "text"
      },
      "source": [
        "Mixing CUDA tensors with CPU-bound tensors"
      ]
    },
    {
      "cell_type": "code",
      "metadata": {
        "id": "w0lqcImf0y21",
        "colab_type": "code",
        "colab": {
          "base_uri": "https://localhost:8080/",
          "height": 217
        },
        "outputId": "604b4936-928f-4f8c-9c96-b5e997ee1b8a"
      },
      "source": [
        "y = torch.rand(3,3)\n",
        "x + y\n"
      ],
      "execution_count": 52,
      "outputs": [
        {
          "output_type": "error",
          "ename": "RuntimeError",
          "evalue": "ignored",
          "traceback": [
            "\u001b[0;31m---------------------------------------------------------------------------\u001b[0m",
            "\u001b[0;31mRuntimeError\u001b[0m                              Traceback (most recent call last)",
            "\u001b[0;32m<ipython-input-52-2de5f9fcdd39>\u001b[0m in \u001b[0;36m<module>\u001b[0;34m()\u001b[0m\n\u001b[1;32m      1\u001b[0m \u001b[0my\u001b[0m \u001b[0;34m=\u001b[0m \u001b[0mtorch\u001b[0m\u001b[0;34m.\u001b[0m\u001b[0mrand\u001b[0m\u001b[0;34m(\u001b[0m\u001b[0;36m3\u001b[0m\u001b[0;34m,\u001b[0m\u001b[0;36m3\u001b[0m\u001b[0;34m)\u001b[0m\u001b[0;34m\u001b[0m\u001b[0;34m\u001b[0m\u001b[0m\n\u001b[0;32m----> 2\u001b[0;31m \u001b[0mx\u001b[0m \u001b[0;34m+\u001b[0m \u001b[0my\u001b[0m\u001b[0;34m\u001b[0m\u001b[0;34m\u001b[0m\u001b[0m\n\u001b[0m\u001b[1;32m      3\u001b[0m \u001b[0;34m\u001b[0m\u001b[0m\n\u001b[1;32m      4\u001b[0m \u001b[0mcpu_device\u001b[0m \u001b[0;34m=\u001b[0m \u001b[0mtorch\u001b[0m\u001b[0;34m.\u001b[0m\u001b[0mdevice\u001b[0m\u001b[0;34m(\u001b[0m\u001b[0;34m\"cpu\"\u001b[0m\u001b[0;34m)\u001b[0m\u001b[0;34m\u001b[0m\u001b[0;34m\u001b[0m\u001b[0m\n",
            "\u001b[0;31mRuntimeError\u001b[0m: expected device cuda:0 but got device cpu"
          ]
        }
      ]
    },
    {
      "cell_type": "code",
      "metadata": {
        "id": "ZxGJafb61Nkq",
        "colab_type": "code",
        "colab": {
          "base_uri": "https://localhost:8080/",
          "height": 69
        },
        "outputId": "292663b0-f653-486c-9297-7e2b2336b05a"
      },
      "source": [
        "cpu_device = torch.device(\"cpu\")\n",
        "y = y.to(cpu_device)\n",
        "x = x.to(cpu_device)\n",
        "x + y"
      ],
      "execution_count": 54,
      "outputs": [
        {
          "output_type": "execute_result",
          "data": {
            "text/plain": [
              "tensor([[0.9282, 0.6427, 0.9240],\n",
              "        [1.2185, 0.4185, 1.3111],\n",
              "        [1.2352, 1.0999, 0.5164]])"
            ]
          },
          "metadata": {
            "tags": []
          },
          "execution_count": 54
        }
      ]
    }
  ]
}